{
 "cells": [
  {
   "cell_type": "code",
   "execution_count": 1,
   "metadata": {},
   "outputs": [],
   "source": [
    "import pandas as pd\n",
    "import json"
   ]
  },
  {
   "cell_type": "code",
   "execution_count": 2,
   "metadata": {},
   "outputs": [],
   "source": [
    "input_data = 'supplier_car.json'\n",
    "\n",
    "#read input json file, take care of the encoding!\n",
    "d = [json.loads(line) for line in open(input_data, 'r', encoding='utf-8')]\n",
    "df = pd.DataFrame(data=d)"
   ]
  },
  {
   "cell_type": "code",
   "execution_count": 3,
   "metadata": {},
   "outputs": [],
   "source": [
    "#convert ID column to numeric type and sort it\n",
    "df['ID'] = df['ID'].astype('float')\n",
    "df = df.sort_values(\"ID\")"
   ]
  },
  {
   "cell_type": "code",
   "execution_count": 4,
   "metadata": {},
   "outputs": [],
   "source": [
    "# Pre-processing\n",
    "# I need to transform the supplier data to achieve the same granularity as the target data"
   ]
  },
  {
   "cell_type": "code",
   "execution_count": 5,
   "metadata": {},
   "outputs": [],
   "source": [
    "# Some rows in the input data have repeting ID and column values, while only the Attribute Names and Attribute Values change.\n",
    "# We can group them and then make new columns with all Attribute Names and Attribute Values in single row for each ID\n",
    "df_grp = df.groupby([\"ID\", \"MakeText\", \"TypeName\", \"TypeNameFull\", \"ModelText\", \"ModelTypeText\"])\n",
    "df_grp_agg = df_grp.agg({\"Attribute Names\": list, \"Attribute Values\": list}).reset_index()"
   ]
  },
  {
   "cell_type": "code",
   "execution_count": 6,
   "metadata": {},
   "outputs": [],
   "source": [
    "# define function to aggragate attributes\n",
    "def aggr_attr(row):\n",
    "    attr = {key: value for key, value in zip(row[\"Attribute Names\"], row[\"Attribute Values\"])}\n",
    "    attr.update({col_name: row[col_name] for col_name in [\"ID\", \"MakeText\", \"TypeName\", \"TypeNameFull\", \"ModelText\", \"ModelTypeText\"]})\n",
    "    return pd.Series(attr)\n",
    "\n",
    "df_grp_agg_attr = df_grp_agg.apply(aggr_attr, axis=1)"
   ]
  },
  {
   "cell_type": "code",
   "execution_count": 11,
   "metadata": {},
   "outputs": [],
   "source": [
    "# Normalization\n",
    "# Normalisation is required in case an attribute value is different but actually is the same (different\n",
    "# spelling, language, different unit used etc.).\n",
    "# \n",
    "# E.g. the first column in the target data \"carType\" defines cat Types (\tCoupé\tConvertible / Roadster\tOther etc.)\n",
    "# The column BodyTypeText in the input data can be used as carTypes for the target data \n",
    "# but it uses slightly different names (some are in German) and some are missgng (e.g. Single seater)\n",
    "# We could use the number of seats to find the \"Single seater\" cars for the target data\n",
    "\n",
    "# Normalize column \"carType\"\n",
    "# it is neccessary to change the names of the car types found in BodyTypeText column of the input data to match\n",
    "# the names used in Target Data carType column and use the number of seats to find the \"Single seater\". \n",
    "# If the BodyType in input data can't be assigned to one of the types in target data, put it to \"Other\"\n",
    "def normalize_cartype(row):\n",
    "    if row[\"Seats\"] == 1:\n",
    "        return \"Single seater\"\n",
    "    try:\n",
    "        return {\n",
    "            \"Coupé\": \"Coupé\",\n",
    "            \"Limousine\": \"Saloon\",\n",
    "            \"Cabriolet\": \"Convertible / Roadster\",\n",
    "            \"Kombi\": \"Station Wagon\",\n",
    "            \"SUV / Geländewagen\": \"SUV\",\n",
    "        }[row[\"BodyTypeText\"]]\n",
    "    except KeyError:\n",
    "        return \"Other\"\n",
    "\n",
    "# Normalize column \"color\"\n",
    "# the same as with carType. Some colors are in German and some are slightly different. \n",
    "# Assign them to \"standard\" values from target data\n",
    "def normalize_color(row):\n",
    "    for color_en, color_de in [\n",
    "            (\"Black\", [\"schwarz\"]), (\"Silver\", [\"silber\"]), (\"Blue\", [\"blau\"]), (\"Gray\", [\"grau\", \"anthrazit\"]), \n",
    "            (\"White\", [\"weiss\"]), (\"Red\", [\"red\", \"bordeaux\"]), (\"Green\", [\"grün\"]), (\"Yellow\", [\"gelb\"]), \n",
    "            (\"Purple\", [\"violett\"]), (\"Gold\", [\"gold\"]), (\"Brown\", [\"braun\"]), (\"Orange\", [\"orange\"]), (\"Beige\", [\"beige\"])]:\n",
    "        for item in color_de:\n",
    "            if item in row[\"BodyColorText\"]:\n",
    "                return color_en\n",
    "    return \"Other\"\n",
    "\n",
    "# Normalize column ConditionTypeText\n",
    "def normalize_condition(row):\n",
    "    try:\n",
    "        return {\n",
    "            \"Occasion\": \"Used\",\n",
    "            \"Oldtimer\": \"Restored\",\n",
    "            \"Neu\": \"New\",\n",
    "            \"Vorführmodell\": \"Original Condition\",\n",
    "        }[row[\"ConditionTypeText\"]]\n",
    "    except KeyError:\n",
    "        return \"Other\"\n",
    "    \n",
    "# Normalize columns model and model_variant\n",
    "# In order to extract  variant we can remove  model  from the column ModelTypeText. \n",
    "# If this doesn't work, we use TypeName.\n",
    "def normalize_variant(row):\n",
    "    model = row[\"ModelText\"].strip()\n",
    "    model_variant = row[\"ModelTypeText\"].strip()\n",
    "    if model_variant[:len(model)].lower() == model.lower():\n",
    "        return model_variant[len(model):].strip()\n",
    "    return row[\"TypeName\"]\n",
    "\n",
    "# Normalize column Zip\n",
    "# Can be done automatically with e.g. pgeocode\n",
    "def normalize_zip(row):\n",
    "    try:\n",
    "        return {\n",
    "            \"Zuzwil\": \"9524\",\n",
    "            \"Porrentruy\": \"2900\",\n",
    "            \"Sursee\": \"6210\",\n",
    "            \"Safenwil\": \"5745\",\n",
    "            \"Basel\": \"4000\",\n",
    "            \"St. Galen\": \"9000\",\n",
    "        }[row[\"City\"]]\n",
    "    except KeyError:\n",
    "        return \"Other\""
   ]
  },
  {
   "cell_type": "code",
   "execution_count": 13,
   "metadata": {},
   "outputs": [],
   "source": [
    "# Perform normalization of all columns posible to normalize\n",
    "NORM_FUNCT = {\n",
    "    \"BodyTypeText\": normalize_cartype,\n",
    "    \"BodyColorText\": normalize_color,\n",
    "    \"Condition\": normalize_condition,\n",
    "    \"Variant\": normalize_variant,\n",
    "    \"Zip\": normalize_zip,\n",
    "\n",
    "}\n",
    "\n",
    "def normalize(row):\n",
    "    for column, funct in NORM_FUNCT.items():\n",
    "        row[column] = funct(row)\n",
    "    return row\n",
    "    \n",
    "# perform normalization    \n",
    "normalized_df = df_grp_agg_attr.apply(normalize, axis=1)"
   ]
  },
  {
   "cell_type": "code",
   "execution_count": 14,
   "metadata": {},
   "outputs": [],
   "source": [
    "def integrate(row):\n",
    "    return pd.Series({\n",
    "        \"carType\": row[\"BodyTypeText\"],\n",
    "        \"color\": row[\"BodyColorText\"],\n",
    "        \"condition\": row[\"ConditionTypeText\"],\n",
    "        \"currency\": \"CHF\", # assume that all cars are from/to be sold CH\n",
    "        \"drive\": \"LHD\", # all cars in the input data are from CH, hence LHD, could not find column to normalize\n",
    "        \"city\": row[\"City\"], # all cities are from CH\n",
    "        \"country\": \"CH\", # all cars in the input data are from CH but can be deduced from the city name\n",
    "        \"make\": row[\"MakeText\"],\n",
    "        \"manufacture_year\": row[\"FirstRegYear\"],\n",
    "        \"mileage\": row[\"Km\"], \n",
    "        \"mileage_unit\": \"kilometer\", # all cars are form CH\n",
    "        \"model\": row[\"ModelText\"],\n",
    "        \"model_variant\": row[\"Variant\"], \n",
    "        \"price_on_request\": None, # could not find column to normalize in the input data\n",
    "        \"type\": \"car\", # all of target data contains the value \"car\"\n",
    "        \"zip\": row[\"Zip\"], # can be inferred from city using e.g pgeocode\n",
    "        \"manufacture_month\": row[\"FirstRegMonth\"],\n",
    "        \"fuel_consumption_unit\": \"l_km_consumption\" if row[\"ConsumptionTotalText\"] and row[\"ConsumptionTotalText\"] != 'null' else None,\n",
    "    })\n",
    "\n",
    "# perform data integration\n",
    "formated_df = normalized_df.apply(integrate, axis=1)"
   ]
  },
  {
   "cell_type": "code",
   "execution_count": 15,
   "metadata": {},
   "outputs": [],
   "source": [
    "with pd.ExcelWriter(\"onedot_data_analyst_solution.xlsx\") as writer:\n",
    "    df_grp_agg_attr.to_excel(writer, sheet_name=\"Pre-processed Data\", index=False, na_rep=\"null\")\n",
    "    normalized_df.to_excel(writer, sheet_name=\"Normalized Data\", index=False, na_rep=\"null\")\n",
    "    formated_df.to_excel(writer, sheet_name=\"Integrated Data\", index=False, na_rep=\"null\")"
   ]
  },
  {
   "cell_type": "code",
   "execution_count": null,
   "metadata": {},
   "outputs": [],
   "source": []
  }
 ],
 "metadata": {
  "kernelspec": {
   "display_name": "Python 3",
   "language": "python",
   "name": "python3"
  },
  "language_info": {
   "codemirror_mode": {
    "name": "ipython",
    "version": 3
   },
   "file_extension": ".py",
   "mimetype": "text/x-python",
   "name": "python",
   "nbconvert_exporter": "python",
   "pygments_lexer": "ipython3",
   "version": "3.8.5"
  }
 },
 "nbformat": 4,
 "nbformat_minor": 4
}
